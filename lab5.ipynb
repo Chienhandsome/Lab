{
 "cells": [
  {
   "cell_type": "code",
   "execution_count": null,
   "metadata": {},
   "outputs": [],
   "source": [
    "#Đọc file dữ liệu \n",
    "import pandas as pd\n",
    "\n",
    "data = pd.read_csv('D:\\ThongKeMT&UD\\LAB5\\mpg.csv')\n",
    "\n",
    "# Kiểm tra các dòng bị thiếu dữ liệu\n",
    "print(\"Số lượng giá trị bị thiếu trong mỗi cột:\")\n",
    "print(data.isnull().sum())\n",
    "\n",
    "# Xóa các dòng bị thiếu dữ liệu\n",
    "data = data.dropna()\n",
    "print(\"\\nDữ liệu sau khi xóa các dòng bị thiếu:\")\n",
    "print(data)\n",
    "\n",
    "# Kiểm tra dữ liệu trùng lặp\n",
    "print(\"\\nSố lượng dòng trùng lặp:\", data.duplicated().sum())\n",
    "\n",
    "# Xóa các dòng trùng lặp\n",
    "data = data.drop_duplicates()\n",
    "print(\"\\nDữ liệu sau khi xóa các dòng trùng lặp:\")\n",
    "print(data)"
   ]
  },
  {
   "cell_type": "code",
   "execution_count": null,
   "metadata": {},
   "outputs": [],
   "source": [
    "# Tính giá trị trung bình\n",
    "cylin = data['cylinders']\n",
    "hore = data['horsepower']\n",
    "wei = data['weight']\n",
    "\n",
    "print(\"Mean values:\")\n",
    "print(\"Cylinders:\", cylin.mean())\n",
    "print(\"Horsepower:\", hore.mean())\n",
    "print(\"Weight:\", wei.mean())\n",
    "print(\"\")\n",
    "\n",
    "# Tính trung vị\n",
    "print(\"Median values:\")\n",
    "print(\"Cylinders:\", cylin.median())\n",
    "print(\"Horsepower:\", hore.median())\n",
    "print(\"Weight:\", wei.median())\n",
    "print(\"\")\n",
    "\n",
    "# Tính miền giá trị (min, max) và phân vị bậc (Q1, Q3) của 'mpg'\n",
    "mpg = data['mpg']\n",
    "print(\"MPG Statistics:\")\n",
    "print(\"Min:\", mpg.min())\n",
    "print(\"Max:\", mpg.max())\n",
    "print(\"Q1 (25th percentile):\", mpg.quantile(0.25))\n",
    "print(\"Q3 (75th percentile):\", mpg.quantile(0.75))\n",
    "print(\"\")\n",
    "\n",
    "# Kiểm tra xe có mức tiêu hao nhiên liệu đặc biệt cao hoặc thấp\n",
    "iqr = mpg.quantile(0.75) - mpg.quantile(0.25)  # Tính khoảng tứ phân vị (IQR)\n",
    "lower_bound = mpg.quantile(0.25) - 1.5 * iqr  # Ngưỡng dưới\n",
    "upper_bound = mpg.quantile(0.75) + 1.5 * iqr  # Ngưỡng trên\n",
    "\n",
    "print(\"Outliers in MPG (Fuel Efficiency):\")\n",
    "print(\"Cars with unusually low MPG:\")\n",
    "print(data[mpg < lower_bound])\n",
    "print(\"\")\n",
    "print(\"Cars with unusually high MPG:\")\n",
    "print(data[mpg > upper_bound])"
   ]
  },
  {
   "cell_type": "code",
   "execution_count": null,
   "metadata": {},
   "outputs": [],
   "source": [
    "# Giả sử df là DataFrame chứa dữ liệu\n",
    "mean_mpg_by_origin = data.groupby('origin')['mpg'].mean().sort_values(ascending=False)\n",
    "print(mean_mpg_by_origin)\n",
    "\n",
    "# Khu vực tiêu hao ít nhiên liệu nhất (mpg thấp nhất)\n",
    "lowest_consumption_origin = mean_mpg_by_origin.idxmin()\n",
    "print(f\"Khu vực tiêu hao nhiên liệu nhiều nhất (mpg thấp nhất) là: {lowest_consumption_origin}\")            "
   ]
  },
  {
   "cell_type": "code",
   "execution_count": null,
   "metadata": {},
   "outputs": [],
   "source": [
    "import matplotlib.pyplot as plt\n",
    "import seaborn as sns\n",
    "\n",
    "# Vẽ Histogram thể hiện sự phân bố của trọng lượng (weight)\n",
    "plt.figure(figsize=(10, 6))\n",
    "plt.hist(data['weight'], bins=20, color='skyblue', edgecolor='black')\n",
    "plt.title('Histogram of Vehicle Weight')\n",
    "plt.xlabel('Weight')\n",
    "plt.ylabel('Frequency')\n",
    "plt.grid(axis='y', linestyle='--', alpha=0.7)\n",
    "plt.show()\n",
    "\n",
    "# Thêm cột 'decade' để phân loại xe theo thập niên\n",
    "data['decade'] = (data['model_year'] // 10) * 10\n",
    "\n",
    "# Vẽ Boxplot so sánh công suất (horsepower) giữa xe sản xuất trong thập niên 70 và 80\n",
    "plt.figure(figsize=(10, 6))\n",
    "sns.boxplot(x='decade', y='horsepower', data=data, palette='Set2')\n",
    "plt.title('Boxplot of Horsepower by Decade')\n",
    "plt.xlabel('Decade')\n",
    "plt.ylabel('Horsepower')\n",
    "plt.show()\n",
    "\n",
    "# So sánh công suất trung bình giữa thập niên 70 và 80\n",
    "mean_horsepower_by_decade = data.groupby('decade')['horsepower'].mean()\n",
    "print(\"Công suất trung bình theo thập niên:\")\n",
    "print(mean_horsepower_by_decade)\n",
    "\n",
    "# Nhận xét\n",
    "if mean_horsepower_by_decade[70] > mean_horsepower_by_decade[80]:\n",
    "    print(\"\\nXe từ thập niên 70 có công suất cao hơn.\")\n",
    "else:\n",
    "    print(\"\\nXe từ thập niên 80 có công suất cao hơn.\")"
   ]
  },
  {
   "cell_type": "code",
   "execution_count": null,
   "metadata": {},
   "outputs": [],
   "source": [
    "import matplotlib.pyplot as plt\n",
    "import seaborn as sns\n",
    "\n",
    "fig, axes = plt.subplots(2, 2, figsize=(12, 10))\n",
    "\n",
    "# mpg vs cylinders\n",
    "sns.scatterplot(x='cylinders', y='mpg', data=data, ax=axes[0, 0])\n",
    "axes[0, 0].set_title('MPG vs Cylinders')\n",
    "\n",
    "# mpg vs horsepower\n",
    "sns.scatterplot(x='horsepower', y='mpg', data=data, ax=axes[0, 1])\n",
    "axes[0, 1].set_title('MPG vs Horsepower')\n",
    "\n",
    "# mpg vs acceleration\n",
    "sns.scatterplot(x='acceleration', y='mpg', data=data, ax=axes[1, 0])\n",
    "axes[1, 0].set_title('MPG vs Acceleration')\n",
    "\n",
    "# mpg vs model_year\n",
    "sns.scatterplot(x='model_year', y='mpg', data=data, ax=axes[1, 1])\n",
    "axes[1, 1].set_title('MPG vs Model Year')\n",
    "\n",
    "plt.tight_layout()\n",
    "plt.show()\n"
   ]
  },
  {
   "cell_type": "code",
   "execution_count": null,
   "metadata": {},
   "outputs": [],
   "source": [
    "print(data.corr()['mpg'][['cylinders','horsepower','acceleration','model_year']].abs().sort_values(ascending=False))\n"
   ]
  },
  {
   "cell_type": "code",
   "execution_count": null,
   "metadata": {},
   "outputs": [],
   "source": [
    "from scipy.stats import poisson\n",
    "\n",
    "#Trung bình mỗi lô hàng có 2 lỗi sản xuất. Giả sử số lỗi tuân theo phân phối Poisson. \n",
    "#Tính xác suất một lô hàng nhiều hơn 3 lỗi.\n",
    "p_more_than_3 = 1 - poisson.cdf(3, mu=2)\n",
    "print(f\"Xác suất một lô hàng nhiều hơn 3 lỗi: {p_more_than_3:.4f}\")\n"
   ]
  },
  {
   "cell_type": "code",
   "execution_count": null,
   "metadata": {},
   "outputs": [],
   "source": [
    "from scipy.stats import binom\n",
    "#Mỗi lô hàng gồm 20 vi mạch, và xác suất mỗi vi mạch đạt tiêu chuẩn là 95%. \n",
    "#Tính xác suất một lô hàng có chính xác 18 vi mạch đạt tiêu chuẩn.\n",
    "p_exact_18 = binom.pmf(18, n=20, p=0.95)\n",
    "print(f\"Xác suất một lô hàng có đúng 18 vi mạch đạt chuẩn: {p_exact_18:.4f}\")\n"
   ]
  },
  {
   "cell_type": "code",
   "execution_count": null,
   "metadata": {},
   "outputs": [],
   "source": [
    "from scipy.stats import norm\n",
    "\n",
    "#Thời gian hoàn thành một lô hàng tuân theo phân phối chuẩn, với trung bình 50 phút và độ lệch chuẩn 5 phút.\n",
    "\n",
    "p_under_45 = norm.cdf(45, loc=50, scale=5)\n",
    "print(f\"Xác suất một lô hàng hoàn thành trong 45 phút: {p_under_45:.4f}\")\n",
    "\n",
    "time_top_5 = norm.ppf(0.05, loc=50, scale=5)\n",
    "print(f\"Thời gian hoàn thành để nằm trong top 5% nhanh nhất: {time_top_5:.2f} phút\")\n"
   ]
  }
 ],
 "metadata": {
  "kernelspec": {
   "display_name": "Python 3",
   "language": "python",
   "name": "python3"
  },
  "language_info": {
   "codemirror_mode": {
    "name": "ipython",
    "version": 3
   },
   "file_extension": ".py",
   "mimetype": "text/x-python",
   "name": "python",
   "nbconvert_exporter": "python",
   "pygments_lexer": "ipython3",
   "version": "3.13.1"
  },
  "orig_nbformat": 2
 },
 "nbformat": 4,
 "nbformat_minor": 2
}
